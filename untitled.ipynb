{
  "nbformat": 4,
  "nbformat_minor": 0,
  "metadata": {
    "colab": {
      "provenance": [],
      "authorship_tag": "ABX9TyOlFa6iVLYeRiZCgC4KBaIc",
      "include_colab_link": true
    },
    "kernelspec": {
      "name": "python3",
      "display_name": "Python 3"
    },
    "language_info": {
      "name": "python"
    },
    "accelerator": "GPU",
    "gpuClass": "standard"
  },
  "cells": [
    {
      "cell_type": "markdown",
      "metadata": {
        "id": "view-in-github",
        "colab_type": "text"
      },
      "source": [
        "<a href=\"https://colab.research.google.com/github/Ruanshijinquan/zhenzhunaicha/blob/main/untitled.ipynb\" target=\"_parent\"><img src=\"https://colab.research.google.com/assets/colab-badge.svg\" alt=\"Open In Colab\"/></a>"
      ]
    },
    {
      "cell_type": "code",
      "source": [
        "text=\"771087196332421115188282238444755250158493858539343346487032333719625141526839555520272530988151856903286891141772423608887696859986562414811405587746238773636715160787630117125854513714221\"\n",
        "a=str(771087196332421115188282238444755250158493858539343346487032333719625141526839555520272530988151856903286891141772423608887696859986562414811405587746238773636715160787630117125854513714221)\n",
        "b=len(text)\n",
        "print(b)\n"
      ],
      "metadata": {
        "colab": {
          "base_uri": "https://localhost:8080/"
        },
        "id": "EU10PYmlMCKD",
        "outputId": "ccf89b77-530b-4d20-e0b8-a1483da135fb"
      },
      "execution_count": null,
      "outputs": [
        {
          "output_type": "stream",
          "name": "stdout",
          "text": [
            "189\n"
          ]
        }
      ]
    },
    {
      "cell_type": "code",
      "source": [],
      "metadata": {
        "id": "dvWAUlwbothr"
      },
      "execution_count": null,
      "outputs": []
    },
    {
      "cell_type": "code",
      "source": [
        "initial_num=771087196332421115188282238444755250158493858539343346487032333719625141526839555520272530988151856903286891141772423608887696859986562414811405587746238773636715160787630117125854513714221\n",
        "a = (format(initial_num, ',d'))\n",
        "print(\"Number after inserting commas: \" + str(a))"
      ],
      "metadata": {
        "colab": {
          "base_uri": "https://localhost:8080/"
        },
        "id": "oszpL-x9TlLv",
        "outputId": "405013b9-c4ab-42d7-cadf-19a8184b8879"
      },
      "execution_count": null,
      "outputs": [
        {
          "output_type": "stream",
          "name": "stdout",
          "text": [
            "Number after inserting commas: 771,087,196,332,421,115,188,282,238,444,755,250,158,493,858,539,343,346,487,032,333,719,625,141,526,839,555,520,272,530,988,151,856,903,286,891,141,772,423,608,887,696,859,986,562,414,811,405,587,746,238,773,636,715,160,787,630,117,125,854,513,714,221\n"
          ]
        }
      ]
    },
    {
      "cell_type": "code",
      "source": [],
      "metadata": {
        "id": "H5CF-RqsoLwI"
      },
      "execution_count": null,
      "outputs": []
    }
  ]
}